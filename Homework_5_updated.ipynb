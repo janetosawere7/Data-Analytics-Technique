{
 "cells": [
  {
   "cell_type": "markdown",
   "metadata": {},
   "source": [
    "# COMP 895   Data Analytics Methods and Techniques\n",
    "## Spring 2018    Assignment 3\n",
    "\n",
    "The following are excises you should do using Jupyter Notebook. Export a copy of the notebook and upload it to BlackBoard.<br> _(File Menu ->Download As->Notebook(.ipynb))_<br>  Solutions should be single lines of Python code unless it is otherwise stated. "
   ]
  },
  {
   "cell_type": "markdown",
   "metadata": {},
   "source": [
    "Define a 3 × 3 “matrix” a with "
   ]
  },
  {
   "cell_type": "code",
   "execution_count": 2,
   "metadata": {},
   "outputs": [
    {
     "data": {
      "text/plain": [
       "array([[3, 1, 5],\n",
       "       [6, 8, 3],\n",
       "       [2, 5, 7]])"
      ]
     },
     "execution_count": 2,
     "metadata": {},
     "output_type": "execute_result"
    }
   ],
   "source": [
    "from numpy import *\n",
    "a = array([[3, 1, 5], [6, 8, 3], [2, 5, 7]])\n",
    "a"
   ]
  },
  {
   "cell_type": "markdown",
   "metadata": {},
   "source": [
    "`Find the sum of the rows of a. \n",
    "This should return:\n",
    "     array([ 9, 17, 14])`"
   ]
  },
  {
   "cell_type": "code",
   "execution_count": 27,
   "metadata": {},
   "outputs": [],
   "source": [
    "# your code here\n",
    "\n"
   ]
  },
  {
   "cell_type": "markdown",
   "metadata": {},
   "source": [
    "```Filter out the rows of a whose sum is not greater than 10.  Use the functional-programming filter() function.  You’ll have to apply row_stack() to the result (a list of the rows as separate arrays that make it through the filter).  This returns:```\n",
    "\n",
    "`array([[6, 8, 3],\n",
    "       [2, 5, 7]])`"
   ]
  },
  {
   "cell_type": "code",
   "execution_count": 6,
   "metadata": {},
   "outputs": [],
   "source": [
    "# type your code here\n",
    "\n"
   ]
  },
  {
   "cell_type": "markdown",
   "metadata": {},
   "source": [
    "`Define a 4 × 4 × 3 array b with `\n"
   ]
  },
  {
   "cell_type": "code",
   "execution_count": 3,
   "metadata": {},
   "outputs": [],
   "source": [
    "b = arange(64).reshape(4,4,4)"
   ]
  },
  {
   "cell_type": "markdown",
   "metadata": {},
   "source": [
    "`This is pictured as a cube with “edges” of length 4, each corresponding to the sequence of indices (0, 1, 2, 3).  It prints out as `"
   ]
  },
  {
   "cell_type": "code",
   "execution_count": null,
   "metadata": {},
   "outputs": [],
   "source": [
    "# execute this cell to print out b\n",
    "print (b)\n",
    "\n"
   ]
  },
  {
   "cell_type": "markdown",
   "metadata": {},
   "source": [
    "`The front upper left of this cube is a sub-cube with indices :\n",
    "(0, 1) × (0, 1) × (0, 1) while the back lower right is a sub-cube\n",
    "with indices (2, 3) × (2, 3) × (2, 3).`"
   ]
  },
  {
   "cell_type": "markdown",
   "metadata": {},
   "source": [
    "### Now, add the back lower right sub-cube element-wise to the front upper left sub-cube.\n",
    "`(For example, looking at two of the corners, b[2,2,2] is added to b[0.0.0], and b[3,3,3] is added to b[1,1,1].)  Use slices.  The following is how the result is printed.  The elements in bold are the ones that have been updated, and the underlined ones are the ones that have been added to the others.` \n"
   ]
  },
  {
   "cell_type": "code",
   "execution_count": 17,
   "metadata": {},
   "outputs": [],
   "source": [
    "# Write code for adding the back lower right sub-cube element wise\n",
    "#  to the front upper-left sub-cube here\n",
    "\n"
   ]
  },
  {
   "cell_type": "markdown",
   "metadata": {},
   "source": [
    "[ [ [**42 44**  2  3]<br>\n",
    "    [**50 52**  6  7]<br>\n",
    "    [ 8  9 10 11]<br>\n",
    "    [12 13 14 15] ]<br>\n",
    "<br>\n",
    "  [ [**74 76** 18 19]<br>\n",
    "    [**82 84** 22 23]<br>\n",
    "    [24 25 26 27]<br>\n",
    "    [28 29 30 31] ]<br>\n",
    "<br>\n",
    "  [ [32 33 34 35]<br>\n",
    "   [36 37 38 39]<br>\n",
    "   [40 41 42 43]<br>\n",
    "   [44 45 46 47] ]<br>\n",
    "<br>\n",
    " [ [48 49 50 51]<br>\n",
    "   [52 53 54 55]<br>\n",
    "   [56 57 58 59]<br>\n",
    "   [60 61 62 63] ] ]<br>\n",
    "\n"
   ]
  },
  {
   "cell_type": "code",
   "execution_count": null,
   "metadata": {},
   "outputs": [],
   "source": [
    "# Define a 3 × 3 “matrix” c as follows (where we also print it).\n",
    "# execute this block\n",
    "c = arange(9).reshape(3,3)\n",
    "print (c)\n"
   ]
  },
  {
   "cell_type": "markdown",
   "metadata": {},
   "source": [
    "It’s easy to loop over the rows of **c**.  You’re to iterate over the\n",
    "columns, printing out each column and (on the same line) the sum of its elements.  (Do this with two lines: a for and a print.)  \n",
    "The following is the output. \n",
    "\n",
    "```\n",
    "[0 3 6] 9\n",
    "[1 4 7] 12\n",
    "[2 5 8] 15\n",
    "\n",
    "```"
   ]
  },
  {
   "cell_type": "code",
   "execution_count": 23,
   "metadata": {},
   "outputs": [],
   "source": [
    "# Type your code here\n",
    "\n"
   ]
  },
  {
   "cell_type": "markdown",
   "metadata": {},
   "source": [
    "Now, convert c to the corresponding one-dimensional array in FORTRAN order.  The output is :<br>\n",
    "```\n",
    "array([0, 3, 6, 1, 4, 7, 2, 5, 8])\n",
    "```"
   ]
  },
  {
   "cell_type": "code",
   "execution_count": 26,
   "metadata": {},
   "outputs": [],
   "source": [
    "# Type your code for converting c to a one-dimensional array here\n",
    "\n"
   ]
  },
  {
   "cell_type": "markdown",
   "metadata": {},
   "source": [
    "From c, produce an array identical to c except that the first row is moved to the bottom (i.e., new rows at indices 0, 1, 2 correspond to old rows 1, 2, 0).  The following is the result:\n",
    "\n",
    "```\n",
    "array([[3, 4, 5],\n",
    "       [6, 7, 8],\n",
    "       [0, 1, 2]])\n",
    "```\n"
   ]
  },
  {
   "cell_type": "code",
   "execution_count": 28,
   "metadata": {},
   "outputs": [],
   "source": [
    "# Type your code for moving the row in C here\n",
    "\n"
   ]
  },
  {
   "cell_type": "markdown",
   "metadata": {},
   "source": [
    "From c, produce an array identical to c except that the first column is moved to the end (i.e., new columns at indices 0, 1, 2 correspond to old columns 1, 2, 0).  The following is the result:\n",
    "```\n",
    "array([[1, 2, 0],\n",
    "       [4, 5, 3],\n",
    "       [7, 8, 6]])\n",
    "```\n"
   ]
  },
  {
   "cell_type": "code",
   "execution_count": null,
   "metadata": {},
   "outputs": [],
   "source": [
    "# Create the 4 × 4 array d as follows.\n",
    "d = arange(16).reshape(4,4)\n",
    "print (d)\n"
   ]
  },
  {
   "cell_type": "markdown",
   "metadata": {},
   "source": [
    "From d, create two 4 × 2 arrays d1, with the first two columns of d, and d2, with the last two columns of d.  They should appear thus:\n",
    "```\n",
    ">>> print d1\n",
    "[[ 0  1]\n",
    " [ 4  5]\n",
    " [ 8  9]\n",
    " [12 13]]\n",
    ">>> print d2\n",
    "[[ 2  3]\n",
    " [ 6  7]\n",
    " [10 11]\n",
    " [14 15]]\n",
    "```"
   ]
  },
  {
   "cell_type": "code",
   "execution_count": 29,
   "metadata": {},
   "outputs": [],
   "source": [
    "# Type code for creating d1 and d2, and print d1 & d2 here\n",
    "\n"
   ]
  },
  {
   "cell_type": "markdown",
   "metadata": {},
   "source": [
    "Next, from d, create two 2 × 4 arrays d1, with the first two rows of d, and d2, with the last two rows of d.  Thus :\n",
    "```\n",
    ">>> print d1\n",
    "[[0 1 2 3]\n",
    " [4 5 6 7]]\n",
    ">>> print d2\n",
    "[[ 8  9 10 11]\n",
    " [12 13 14 15]]\n",
    "```"
   ]
  },
  {
   "cell_type": "code",
   "execution_count": 30,
   "metadata": {},
   "outputs": [],
   "source": [
    "# Type code for creating the new d1 and d2, and print d1 & d2 here\n",
    "\n"
   ]
  },
  {
   "cell_type": "code",
   "execution_count": null,
   "metadata": {},
   "outputs": [],
   "source": [
    "# Define arrays  a1  and   b1   as follows:\n",
    "a1 = arange(6, 21)\n",
    "print (a1)\n",
    "\n",
    "b1 = array([2, 3, 5])\n",
    "print (b1)"
   ]
  },
  {
   "cell_type": "code",
   "execution_count": 32,
   "metadata": {},
   "outputs": [],
   "source": [
    "# Now, Form the 15 × 3 array c1 such that c[i,j] is a1[i] mod b1[j]:\n",
    "# Write your code here\n",
    "\n"
   ]
  },
  {
   "cell_type": "markdown",
   "metadata": {},
   "source": [
    "It should look ilke: \n",
    "```\n",
    ">>> print c1\n",
    "[[0 0 1]\n",
    " [1 1 2]\n",
    " [0 2 3]\n",
    " [1 0 4]\n",
    " [0 1 0]\n",
    " [1 2 1]\n",
    " [0 0 2]\n",
    " [1 1 3]\n",
    " [0 2 4]\n",
    " [1 0 0]\n",
    " [0 1 1]\n",
    " [1 2 2]\n",
    " [0 0 3]\n",
    " [1 1 4]\n",
    " [0 2 0]]\n",
    "```"
   ]
  },
  {
   "cell_type": "markdown",
   "metadata": {},
   "source": [
    "Next, form the array of size 15 whose element at index i is the product of the elements in row i of c1.  (So the element at index i in this array is nonzero iff a1[i] is prime.). "
   ]
  },
  {
   "cell_type": "code",
   "execution_count": null,
   "metadata": {},
   "outputs": [],
   "source": [
    "# Write your code for this here\n",
    "#\n"
   ]
  },
  {
   "cell_type": "markdown",
   "metadata": {},
   "source": [
    "The answer is:\n",
    "```\n",
    "array([0, 2, 0, 0, 0, 2, 0, 3, 0, 0, 0, 4, 0, 4, 0])\n",
    "```\n",
    "\n"
   ]
  },
  {
   "cell_type": "markdown",
   "metadata": {},
   "source": [
    "Now Using NumPy matrices, find the product of :\n",
    "\\begin{bmatrix}\n",
    "   2 & 3 \\\\\n",
    "   0 & 2  \n",
    "\\end{bmatrix}\n",
    "<br>\n",
    "and the inverse of :\n",
    "\\begin{bmatrix}\n",
    "   1 & 2 \\\\\n",
    "   3 & 1  \n",
    "\\end{bmatrix}"
   ]
  },
  {
   "cell_type": "code",
   "execution_count": 10,
   "metadata": {},
   "outputs": [],
   "source": [
    "# Write your code here\n",
    "#"
   ]
  },
  {
   "cell_type": "markdown",
   "metadata": {},
   "source": [
    "The answer should be:\n",
    "```\n",
    "matrix([[ 1.4,  0.2],\n",
    "        [ 1.2, -0.4]])\n",
    "```"
   ]
  },
  {
   "cell_type": "markdown",
   "metadata": {},
   "source": [
    "Solve the following system of linear equations:\n",
    "    \n",
    " 5x<sub>1</sub> –  x<sub>2</sub> + 2x<sub>3</sub> = 7 <br>\n",
    "-2x<sub>1</sub> + 6x<sub>2</sub> + 9x<sub>3</sub> = 0 <Br>\n",
    "-7x<sub>1</sub> + 5x<sub>2</sub> – 3x<sub>3</sub> = 7  <br>\n",
    "    <br>\n",
    "    (This will take several lines.) "
   ]
  },
  {
   "cell_type": "code",
   "execution_count": 35,
   "metadata": {},
   "outputs": [],
   "source": [
    "# Write your code for solving here\n",
    "#\n"
   ]
  },
  {
   "cell_type": "markdown",
   "metadata": {},
   "source": [
    "The answer is:\n",
    "```    \n",
    ">>> print x\n",
    "[ 3.23076923  4.53846154 -2.30769231]\n",
    "```\n",
    "\n",
    "You can check this answer by finding A<sup>-1</sup>**b**. \n"
   ]
  },
  {
   "cell_type": "code",
   "execution_count": null,
   "metadata": {},
   "outputs": [],
   "source": [
    "  "
   ]
  }
 ],
 "metadata": {
  "kernelspec": {
   "display_name": "Python 3",
   "language": "python",
   "name": "python3"
  },
  "language_info": {
   "codemirror_mode": {
    "name": "ipython",
    "version": 3
   },
   "file_extension": ".py",
   "mimetype": "text/x-python",
   "name": "python",
   "nbconvert_exporter": "python",
   "pygments_lexer": "ipython3",
   "version": "3.6.5"
  }
 },
 "nbformat": 4,
 "nbformat_minor": 2
}
